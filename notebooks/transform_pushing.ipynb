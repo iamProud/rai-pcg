{
 "cells": [
  {
   "cell_type": "markdown",
   "metadata": {},
   "source": [
    "# Transform pushing"
   ]
  },
  {
   "cell_type": "code",
   "execution_count": 6,
   "metadata": {},
   "outputs": [],
   "source": [
    "import os\n",
    "import sys\n",
    "sys.path.append('../rai-python/build')\n",
    "import numpy as np\n",
    "import libry as ry"
   ]
  },
  {
   "cell_type": "markdown",
   "metadata": {},
   "source": [
    "## Functions"
   ]
  },
  {
   "cell_type": "code",
   "execution_count": 7,
   "metadata": {},
   "outputs": [],
   "source": [
    "'''\n",
    "Reads the world file\n",
    "and returns it as an array\n",
    "'''\n",
    "def get_world(folder, idx):\n",
    "    world_list = []\n",
    "\n",
    "    file = f'{idx}.txt'\n",
    "\n",
    "    f = open(folder+file, 'r')\n",
    "    \n",
    "    for line in f:\n",
    "        row = []\n",
    "\n",
    "        for char in line:\n",
    "            if char == '\\n':\n",
    "                break\n",
    "\n",
    "            row.append([int(char)])\n",
    "\n",
    "        world_list.append(row)\n",
    "\n",
    "\n",
    "    world = np.asarray(world_list)\n",
    "    off = -np.floor(world.shape[0] / 2) + 0.5\n",
    "    \n",
    "    return world, off\n",
    "\n",
    "'''\n",
    "Gets the world as an numeric array\n",
    "and generates a rai-Config of it\n",
    "'''\n",
    "def transform_world(C, world, off, colors):\n",
    "    pusher = C.addFile('../my-robotModels/cylRobo/robo.g')\n",
    "\n",
    "    for x in range(world.shape[0]):\n",
    "        for y in range(world.shape[1]):\n",
    "            if(world[x][y] == 5):\n",
    "                continue\n",
    "            \n",
    "            empty = C.addFrame(name=f'empty_{x}_{y}', parent='floor', args='type:ssBox size:[1, 1, 1, 0], contact, joint:rigid')\n",
    "            empty.setPosition([(x+off), (y+off), -0.5])\n",
    "            empty.setMass(100.0)\n",
    "            \n",
    "            if(world[x][y] == 1):\n",
    "                c = colors[(x+y) % 2]\n",
    "                block = C.addFrame(name=f'block_{x}_{y}', parent='floor', args=f'type:ssBox size:[1, 1, 1, .02] color=[{c[0]}, {c[1]}, {c[2]}], contact, joint:rigid')\n",
    "                block.setPosition([(x+off), (y+off), 0.5])\n",
    "                block.setMass(100.0)\n",
    "\n",
    "            if(world[x][y] == 2):\n",
    "                pusher = C.getFrame(frameName='robo')\n",
    "                pusher.setPosition([(x+off), (y+off), 0.1])\n",
    "\n",
    "            if(world[x][y] == 3):\n",
    "                box = C.addFrame(name=f'box_{x}_{y}', parent='floor', args='type:ssBox size:[.9, .9, 1, .02] color=[.6, .3, 0.], contact')\n",
    "                box.setPosition([(x+off), (y+off), 0.5])\n",
    "                box.setMass(100.0)\n",
    "            if(world[x][y] == 4):\n",
    "                goal = C.addFrame(name=f'goal_{x}_{y}', parent='floor', args='type:ssBox size=[.95, .95, .002, .002] color:[0., 1., 0.], joint:rigid')\n",
    "                goal.setPosition([(x+off), (y+off), -0.001])\n"
   ]
  },
  {
   "cell_type": "markdown",
   "metadata": {},
   "source": [
    "## Do Transformation"
   ]
  },
  {
   "cell_type": "code",
   "execution_count": 8,
   "metadata": {},
   "outputs": [
    {
     "ename": "AttributeError",
     "evalue": "'libry.Config' object has no attribute 'save'",
     "output_type": "error",
     "traceback": [
      "\u001b[0;31m---------------------------------------------------------------------------\u001b[0m",
      "\u001b[0;31mAttributeError\u001b[0m                            Traceback (most recent call last)",
      "Cell \u001b[0;32mIn [8], line 28\u001b[0m\n\u001b[1;32m     25\u001b[0m transform_world(C, world, off, colors)\n\u001b[1;32m     27\u001b[0m g_file \u001b[38;5;241m=\u001b[39m \u001b[38;5;124mf\u001b[39m\u001b[38;5;124m'\u001b[39m\u001b[38;5;132;01m{\u001b[39;00mi\u001b[38;5;132;01m}\u001b[39;00m\u001b[38;5;124m.g\u001b[39m\u001b[38;5;124m'\u001b[39m\n\u001b[0;32m---> 28\u001b[0m \u001b[43mC\u001b[49m\u001b[38;5;241;43m.\u001b[39;49m\u001b[43msave\u001b[49m(SAFE_DIR\u001b[38;5;241m+\u001b[39mg_file)\n\u001b[1;32m     29\u001b[0m C\u001b[38;5;241m.\u001b[39mview()\n",
      "\u001b[0;31mAttributeError\u001b[0m: 'libry.Config' object has no attribute 'save'"
     ]
    }
   ],
   "source": [
    "# Setup vars\n",
    "run = 1\n",
    "SAFE_DIR = f'../agents/maze/pushing_turtle_{run}_log/generated/'\n",
    "colors = [[.8, .1, .1], [1., .3, .2]]\n",
    "\n",
    "########\n",
    "\n",
    "\n",
    "# Get number of Files\n",
    "n = -1\n",
    "listdir = os.listdir(SAFE_DIR)\n",
    "for f in listdir:\n",
    "    try:\n",
    "        val = int(f.split('.')[0])\n",
    "        n = max(n, val)\n",
    "    except ValueError:\n",
    "        continue      \n",
    "\n",
    "# Iterate over all files\n",
    "for i in range(0, n+1):\n",
    "    C = ry.Config()\n",
    "    C.clear()\n",
    "        \n",
    "    world, off = get_world(SAFE_DIR, i)       \n",
    "    transform_world(C, world, off, colors)\n",
    "        \n",
    "    g_file = f'{i}.g'\n",
    "    C.save(SAFE_DIR+g_file)\n",
    "    C.view()"
   ]
  },
  {
   "cell_type": "markdown",
   "metadata": {},
   "source": [
    "## Test"
   ]
  },
  {
   "cell_type": "code",
   "execution_count": 7,
   "metadata": {},
   "outputs": [],
   "source": [
    "C = ry.Config()\n",
    "C.clear()\n",
    "\n",
    "run = 1\n",
    "file = 0\n",
    "C.addFile(f'../agents/maze/pushing_turtle_{run}_log/generated/{file}.g')\n",
    "\n",
    "C.view()"
   ]
  }
 ],
 "metadata": {
  "kernelspec": {
   "display_name": "Python 3 (ipykernel)",
   "language": "python",
   "name": "python3"
  },
  "language_info": {
   "codemirror_mode": {
    "name": "ipython",
    "version": 3
   },
   "file_extension": ".py",
   "mimetype": "text/x-python",
   "name": "python",
   "nbconvert_exporter": "python",
   "pygments_lexer": "ipython3",
   "version": "3.8.10"
  },
  "vscode": {
   "interpreter": {
    "hash": "916dbcbb3f70747c44a77c7bcd40155683ae19c65e1c03b4aa3499c5328201f1"
   }
  }
 },
 "nbformat": 4,
 "nbformat_minor": 2
}
